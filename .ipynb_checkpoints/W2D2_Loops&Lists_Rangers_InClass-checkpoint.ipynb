{
 "cells": [
  {
   "cell_type": "markdown",
   "metadata": {},
   "source": [
    "# Functions, Scoping, Data Collections 1 & List Comprehensions"
   ]
  },
  {
   "cell_type": "markdown",
   "metadata": {},
   "source": [
    "## Tasks Today:\n",
    "\n",
    "<i>Monday Additions (for loops)</i>\n",
    "\n",
    "1) For Loops <br>\n",
    " &nbsp;&nbsp;&nbsp;&nbsp; a) Using 'in' keyword <br>\n",
    " &nbsp;&nbsp;&nbsp;&nbsp; b) Continue Statement <br>\n",
    " &nbsp;&nbsp;&nbsp;&nbsp; c) Break Statement <br>\n",
    " &nbsp;&nbsp;&nbsp;&nbsp; d) Pass Statement <br>\n",
    " &nbsp;&nbsp;&nbsp;&nbsp; e) Double For Loops <br>\n",
    "2) While Loops <br>\n",
    " &nbsp;&nbsp;&nbsp;&nbsp; a) Looping 'While True' <br>\n",
    " &nbsp;&nbsp;&nbsp;&nbsp; b) While and For Loops Used Together <br>\n",
    " \n",
    "3) Lists <br>\n",
    " &nbsp;&nbsp;&nbsp;&nbsp; a) Declaring Lists <br>\n",
    " &nbsp;&nbsp;&nbsp;&nbsp; b) Indexing a List <br>\n",
    " &nbsp;&nbsp;&nbsp;&nbsp; c) .append() <br>\n",
    " &nbsp;&nbsp;&nbsp;&nbsp; d) .insert() <br>\n",
    " &nbsp;&nbsp;&nbsp;&nbsp; e) .pop() <br>\n",
    " &nbsp;&nbsp;&nbsp;&nbsp; f) .remove() <br>\n",
    " &nbsp;&nbsp;&nbsp;&nbsp; g) del() <br>\n",
    " &nbsp;&nbsp;&nbsp;&nbsp; h) Concatenating Two Lists <br>\n",
    " &nbsp;&nbsp;&nbsp;&nbsp; i) Lists Within Lists <br>\n",
    " &nbsp;&nbsp;&nbsp;&nbsp; j) Looping Through Lists <br>\n",
    "4) Working With Lists <br>\n",
    " &nbsp;&nbsp;&nbsp;&nbsp; a) min() <br>\n",
    " &nbsp;&nbsp;&nbsp;&nbsp; b) max() <br>\n",
    " &nbsp;&nbsp;&nbsp;&nbsp; c) sum() <br>\n",
    " &nbsp;&nbsp;&nbsp;&nbsp; d) sort() <br>\n",
    " &nbsp;&nbsp;&nbsp;&nbsp; e) Copying a List <br>\n",
    " &nbsp;&nbsp;&nbsp;&nbsp; f) 'in' keyword <br>\n",
    " &nbsp;&nbsp;&nbsp;&nbsp; g) 'not in' keyword <br>\n",
    " &nbsp;&nbsp;&nbsp;&nbsp; i) Checking an Empty List <br>\n",
    " &nbsp;&nbsp;&nbsp;&nbsp; j) Removing Instances with a Loop <br> \n",
    "5) List Comprehensions <br>\n",
    "6) Tuples <br>\n",
    " &nbsp;&nbsp;&nbsp;&nbsp; a) sorted() <br>\n"
   ]
  },
  {
   "cell_type": "markdown",
   "metadata": {},
   "source": [
    "### For Loops"
   ]
  },
  {
   "cell_type": "code",
   "execution_count": 11,
   "metadata": {},
   "outputs": [
    {
     "name": "stdout",
     "output_type": "stream",
     "text": [
      "J\n",
      "e\n",
      "r\n",
      "e\n",
      "m\n",
      "y\n",
      "\n",
      "\n",
      "6\n",
      "[0, 1, 2, 3, 4, 5]\n",
      "\n",
      "\n",
      "0 J\n",
      "1 e\n",
      "2 r\n",
      "3 e\n",
      "4 m\n",
      "5 y\n",
      "\n",
      "\n",
      "(0, 'J') y\n",
      "(1, 'e') y\n",
      "(2, 'r') y\n",
      "(3, 'e') y\n",
      "(4, 'm') y\n",
      "(5, 'y') y\n"
     ]
    }
   ],
   "source": [
    "# for keyword, counter/iterator (descriptive), in keyword, object\n",
    "\n",
    "name = 'Jeremy'\n",
    "#way 1 is soley going through by value\n",
    "\n",
    "for char in name:\n",
    "    print(char)\n",
    "    \n",
    "#way 2 is looping by index utilizing range & len\n",
    "\n",
    "print('\\n')\n",
    "      \n",
    "name_len = len(name)\n",
    "print(name_len)\n",
    "\n",
    "print(list(range(name_len)))\n",
    "\n",
    "print('\\n')\n",
    "\n",
    "for i in range(len(name)):\n",
    "    print(i, name[i])\n",
    "\n",
    "#way 3 is looping by index AND value by using enumerate()\n",
    "\n",
    "print('\\n')\n",
    "\n",
    "for i in enumerate(name):\n",
    "    print(i, char)"
   ]
  },
  {
   "cell_type": "markdown",
   "metadata": {},
   "source": [
    "##### Using 'in' keyword"
   ]
  },
  {
   "cell_type": "code",
   "execution_count": 14,
   "metadata": {},
   "outputs": [
    {
     "name": "stdout",
     "output_type": "stream",
     "text": [
      "e is here\n",
      "J\n",
      "e\n",
      "r\n",
      "e\n",
      "m\n",
      "y\n",
      "e is def here\n",
      "e is def here\n"
     ]
    }
   ],
   "source": [
    "#in is what accesses the items in an iterable\n",
    "\n",
    "name = 'Jeremy'\n",
    "\n",
    "if 'e' in name:\n",
    "    print('e is here')\n",
    "\n",
    "for char in name:\n",
    "    print(char)\n",
    "\n",
    "for char in name:\n",
    "    if char == 'e':\n",
    "        print('e is def here')"
   ]
  },
  {
   "cell_type": "markdown",
   "metadata": {},
   "source": [
    "##### Continue Statement"
   ]
  },
  {
   "cell_type": "code",
   "execution_count": 15,
   "metadata": {},
   "outputs": [
    {
     "name": "stdout",
     "output_type": "stream",
     "text": [
      "0\n",
      "1\n",
      "2\n",
      "3\n",
      "4\n",
      "6\n",
      "7\n",
      "8\n",
      "9\n",
      "10\n",
      "11\n",
      "12\n",
      "13\n",
      "14\n",
      "15\n",
      "16\n",
      "17\n",
      "18\n",
      "19\n"
     ]
    }
   ],
   "source": [
    "#continue will skip an item based on a conditional\n",
    "\n",
    "for i in range(20):\n",
    "    if i == 5:\n",
    "        continue\n",
    "    else:\n",
    "        print(i)\n",
    "\n"
   ]
  },
  {
   "cell_type": "markdown",
   "metadata": {},
   "source": [
    "##### Break Statement"
   ]
  },
  {
   "cell_type": "code",
   "execution_count": 17,
   "metadata": {},
   "outputs": [
    {
     "name": "stdout",
     "output_type": "stream",
     "text": [
      "0\n",
      "1\n",
      "2\n",
      "3\n",
      "4\n",
      "0\n",
      "1\n",
      "2\n",
      "3\n",
      "4\n",
      "5\n"
     ]
    }
   ],
   "source": [
    "#break will stop our loop all together\n",
    "\n",
    "for i in range(20):\n",
    "    if i == 5:\n",
    "        break\n",
    "    print(i) #does not print 5 here because below break\n",
    "\n",
    "for i in range(20):\n",
    "    print(i) #prints 5 here because above break\n",
    "    if i == 5:\n",
    "        break\n",
    "    \n"
   ]
  },
  {
   "cell_type": "markdown",
   "metadata": {},
   "source": [
    "##### Pass Statement"
   ]
  },
  {
   "cell_type": "code",
   "execution_count": 21,
   "metadata": {},
   "outputs": [
    {
     "name": "stdout",
     "output_type": "stream",
     "text": [
      "hello\n",
      "hello again\n"
     ]
    }
   ],
   "source": [
    "# mostly used as a placeholder, and will continue on same iteration\n",
    "\n",
    "for i in range(20):\n",
    "    pass #placeholder to continue code\n",
    "\n",
    "print('hello')\n",
    "def my_func():\n",
    "    pass\n",
    "\n",
    "print('hello again')"
   ]
  },
  {
   "cell_type": "markdown",
   "metadata": {},
   "source": [
    "##### Double For Loops"
   ]
  },
  {
   "cell_type": "code",
   "execution_count": 29,
   "metadata": {},
   "outputs": [
    {
     "name": "stdout",
     "output_type": "stream",
     "text": [
      "i = 0, j = 0\n",
      "i = 0, j = 1\n",
      "i = 0, j = 2\n",
      "i = 0, j = 3\n",
      "i = 0, j = 4\n",
      "i = 1, j = 0\n",
      "i = 1, j = 1\n",
      "i = 1, j = 2\n",
      "i = 1, j = 3\n",
      "i = 1, j = 4\n",
      "i = 2, j = 0\n",
      "i = 2, j = 1\n",
      "i = 2, j = 2\n",
      "i = 2, j = 3\n",
      "i = 2, j = 4\n",
      "i = 3, j = 0\n",
      "i = 3, j = 1\n",
      "i = 3, j = 2\n",
      "i = 3, j = 3\n",
      "i = 3, j = 4\n",
      "i = 4, j = 0\n",
      "i = 4, j = 1\n",
      "i = 4, j = 2\n",
      "i = 4, j = 3\n",
      "i = 4, j = 4\n"
     ]
    }
   ],
   "source": [
    "\n",
    "for i in range(5):\n",
    "    for j in range(5):\n",
    "        print(f\"i = {i}, j = {j}\")\n",
    "\n",
    "#for char in name:\n",
    "    #for char2 in name:\n",
    "        #print(char, char2)\n",
    "        #print('\\n')"
   ]
  },
  {
   "cell_type": "markdown",
   "metadata": {},
   "source": [
    "### While Loops"
   ]
  },
  {
   "cell_type": "code",
   "execution_count": 28,
   "metadata": {},
   "outputs": [
    {
     "name": "stdout",
     "output_type": "stream",
     "text": [
      "0\n",
      "1\n",
      "2\n",
      "3\n",
      "4\n"
     ]
    }
   ],
   "source": [
    "#while keyword, condition statement\n",
    "#while loop will run based on the condition statement\n",
    "\n",
    "counter = 0\n",
    "\n",
    "while counter < 5: # this will keep running while our condition is TRUE\n",
    "    print(counter)\n",
    "    counter += 1\n"
   ]
  },
  {
   "cell_type": "markdown",
   "metadata": {},
   "source": [
    "##### looping 'While True'"
   ]
  },
  {
   "cell_type": "code",
   "execution_count": 35,
   "metadata": {},
   "outputs": [],
   "source": [
    "# true as a condition for while loop to run\n",
    "game_over = True # a flag\n",
    "\n",
    "#while True: #standard way of writing while loops, essentially will keep running until we hit a break statment\n",
    "    #print(\"infinite Loop\")\n",
    "    #if game_over == False:\n",
    "        #break"
   ]
  },
  {
   "cell_type": "code",
   "execution_count": 38,
   "metadata": {},
   "outputs": [
    {
     "name": "stdout",
     "output_type": "stream",
     "text": [
      "1\n",
      "2\n",
      "3\n",
      "4\n",
      "5\n"
     ]
    }
   ],
   "source": [
    "game_over = False\n",
    "my_list = [1,2,3,4,5]\n",
    "index = 0\n",
    "\n",
    "while True:\n",
    "    if my_list[index] == 5:\n",
    "        break\n",
    "    print(my_list[index])\n",
    "    index += 1\n",
    "\n",
    "while True:\n",
    "    print(my_list[index])\n",
    "    if my_list[index] == 5:\n",
    "        break\n",
    "   \n",
    "    index += 1"
   ]
  },
  {
   "cell_type": "markdown",
   "metadata": {},
   "source": [
    "##### While & For Loops Used Together"
   ]
  },
  {
   "cell_type": "code",
   "execution_count": 41,
   "metadata": {
    "scrolled": true
   },
   "outputs": [
    {
     "name": "stdout",
     "output_type": "stream",
     "text": [
      "\n",
      " While Loop Iteration: 0\n",
      "For Loop Iteration: 0\n",
      "For Loop Iteration: 1\n",
      "For Loop Iteration: 2\n",
      "\n",
      " While Loop Iteration: 1\n",
      "For Loop Iteration: 0\n",
      "For Loop Iteration: 1\n",
      "For Loop Iteration: 2\n",
      "\n",
      " While Loop Iteration: 2\n",
      "For Loop Iteration: 0\n",
      "For Loop Iteration: 1\n",
      "For Loop Iteration: 2\n",
      "\n",
      " While Loop Iteration: 3\n",
      "For Loop Iteration: 0\n",
      "For Loop Iteration: 1\n",
      "For Loop Iteration: 2\n",
      "\n",
      " While Loop Iteration: 4\n",
      "For Loop Iteration: 0\n",
      "For Loop Iteration: 1\n",
      "For Loop Iteration: 2\n",
      "\n",
      " While Loop Iteration: 5\n",
      "For Loop Iteration: 0\n",
      "For Loop Iteration: 1\n",
      "For Loop Iteration: 2\n",
      "\n",
      " While Loop Iteration: 6\n",
      "For Loop Iteration: 0\n",
      "For Loop Iteration: 1\n",
      "For Loop Iteration: 2\n",
      "\n",
      " While Loop Iteration: 7\n",
      "For Loop Iteration: 0\n",
      "For Loop Iteration: 1\n",
      "For Loop Iteration: 2\n",
      "\n",
      " While Loop Iteration: 8\n",
      "For Loop Iteration: 0\n",
      "For Loop Iteration: 1\n",
      "For Loop Iteration: 2\n",
      "\n",
      " While Loop Iteration: 9\n",
      "For Loop Iteration: 0\n",
      "For Loop Iteration: 1\n",
      "For Loop Iteration: 2\n"
     ]
    }
   ],
   "source": [
    "i = 0\n",
    "\n",
    "while i < 10:\n",
    "    \n",
    "    print(f'\\n While Loop Iteration: {i}')\n",
    "\n",
    "    for j in range(3):\n",
    "        print(f\"For Loop Iteration: {j}\")\n",
    "\n",
    "    i += 1"
   ]
  },
  {
   "cell_type": "code",
   "execution_count": 43,
   "metadata": {},
   "outputs": [
    {
     "name": "stdout",
     "output_type": "stream",
     "text": [
      "[1, 2, 3]\n"
     ]
    }
   ],
   "source": [
    "my_list = [] #declare an empty list\n",
    "value = 1\n",
    "\n",
    "while len(my_list) < 3: #ex;licitly stating the condition we want while loop to keep giong until\n",
    "\n",
    "    my_list.append(value)\n",
    "    value += 1\n",
    "\n",
    "print(my_list)"
   ]
  },
  {
   "cell_type": "markdown",
   "metadata": {},
   "source": [
    "##### The Range Function"
   ]
  },
  {
   "cell_type": "code",
   "execution_count": 46,
   "metadata": {},
   "outputs": [
    {
     "name": "stdout",
     "output_type": "stream",
     "text": [
      "0\n",
      "1\n",
      "2\n",
      "3\n",
      "4\n",
      "\n",
      "\n",
      "1\n",
      "2\n",
      "3\n",
      "4\n",
      "\n",
      "\n",
      "1\n",
      "3\n"
     ]
    }
   ],
   "source": [
    "# range(start, stop, step) - stop is required and start defaults to 0 if none is given\n",
    "\n",
    "#just giving it 1 argument\n",
    "\n",
    "for i in range(5): # assuming argument is the stop, start at 0, step by 1\n",
    "    print(i)\n",
    "\n",
    "#giving it 2 arguments:\n",
    "\n",
    "print('\\n')\n",
    "for i in range(1,5): #assuming first argument is the start, second is the stop\n",
    "    print(i)\n",
    "\n",
    "#giving it 3 arguments:\n",
    "print('\\n')\n",
    "for i in range(1,5,2): #first argument is start, second is stop, thrird is step\n",
    "    print(i)"
   ]
  },
  {
   "cell_type": "markdown",
   "metadata": {},
   "source": [
    "### String Manipulation Exercise"
   ]
  },
  {
   "cell_type": "code",
   "execution_count": 64,
   "metadata": {},
   "outputs": [
    {
     "name": "stdout",
     "output_type": "stream",
     "text": [
      "Connor\n",
      "Max\n",
      "Evan\n",
      "Jordan\n"
     ]
    }
   ],
   "source": [
    "names = ['    coNNor', 'max', ' EVan ', 'JORDAN']\n",
    "# HINT: You will need to use a for loop for iteration\n",
    "# Loop through the names list, remove white space and capitalize the first letter of each name. Print each new name.\n",
    "\n",
    "#.title for capital, .string for whitespace removal\n",
    "\n",
    "for names in names:\n",
    "    print(names.title().strip())"
   ]
  },
  {
   "cell_type": "markdown",
   "metadata": {},
   "source": [
    "## Lists"
   ]
  },
  {
   "cell_type": "markdown",
   "metadata": {},
   "source": [
    "##### Declaring Lists"
   ]
  },
  {
   "cell_type": "code",
   "execution_count": 67,
   "metadata": {},
   "outputs": [
    {
     "name": "stdout",
     "output_type": "stream",
     "text": [
      "['Alex', 'Leza', 'Luis', 'Matthew']\n",
      "[0, 1, 2, 3, 4]\n",
      "['Alex', 0, 'Leza', [0, 1, 2, 3, 4]]\n",
      "[]\n"
     ]
    }
   ],
   "source": [
    "#declare an empty list we will use square brackets []\n",
    "\n",
    "our_list = [] # empty list declared\n",
    "\n",
    "\n",
    "#lists are mutable (we can mutate it) objects vs strings are immmutable (can't mutate it) objects\n",
    "names = ['Alex', 'Leza', 'Luis', 'Matthew']\n",
    "numbers = [0,1,2,3,4]         #can also use 'numbers' here instead of [0,1,2,3,4] assuming they are the same list\n",
    "things = ['Alex', 0, 'Leza', [0,1,2,3,4]] \n",
    "\n",
    "print(names)\n",
    "print(numbers)\n",
    "print(things)\n",
    "\n",
    "print(our_list)"
   ]
  },
  {
   "cell_type": "markdown",
   "metadata": {},
   "source": [
    "##### Indexing a List"
   ]
  },
  {
   "cell_type": "code",
   "execution_count": 78,
   "metadata": {},
   "outputs": [
    {
     "name": "stdout",
     "output_type": "stream",
     "text": [
      "Leza\n",
      "['Leza', 'Luis', 'Matthew']\n",
      "['Alex']\n",
      "['Leza', 'Luis', 'Matthew']\n",
      "['Leza', 'Luis']\n",
      "\n",
      "\n",
      "['Leza', 'Matthew']\n",
      "azeL\n"
     ]
    }
   ],
   "source": [
    "# [start: stop: step] --> last item [-1]\n",
    "\n",
    "#indexing is just with 1 value\n",
    "#slicing utilizes the colon and a start, stop, step.\n",
    "\n",
    "#declaring and indexing into lists is always going to be square brackets. Indexing in general []\n",
    "#         0        1      2        3  (index value)\n",
    "names = ['Alex', 'Leza', 'Luis', 'Matthew']\n",
    "\n",
    "#index by 1 argument\n",
    "print(names[1])\n",
    "\n",
    "# start with 1 argument and a colon :\n",
    "\n",
    "print(names[1:]) #these still have brackets. making a new list\n",
    "print(names[:1])\n",
    "\n",
    "cool_kids = names[1:]\n",
    "print(cool_kids)\n",
    "\n",
    "# 2 values and the colon :\n",
    "\n",
    "print(names[1:3])\n",
    "\n",
    "print('\\n')\n",
    "print(names[1::2]) #steps by 2 to Matthew\n",
    "\n",
    "#we can always go backwards\n",
    "\n",
    "print(names[1][::-1])"
   ]
  },
  {
   "cell_type": "code",
   "execution_count": 89,
   "metadata": {},
   "outputs": [
    {
     "name": "stdout",
     "output_type": "stream",
     "text": [
      "[3]\n"
     ]
    }
   ],
   "source": [
    "names = ['Alex', 'Leza', 'Luis', 'Matthew']\n",
    "numbers = [0,1,2,3,4]         #can also use 'numbers' here instead of [0,1,2,3,4] assuming they are the same list\n",
    "things = ['Alex', 0, 'Leza', [0,1,2,3,4]] \n",
    "\n",
    "#print the # 3 utilitzing our things list\n",
    "\n",
    "print(things[3][-2:2:-1])"
   ]
  },
  {
   "cell_type": "markdown",
   "metadata": {},
   "source": [
    "### List Methods"
   ]
  },
  {
   "cell_type": "markdown",
   "metadata": {},
   "source": [
    "##### .append()"
   ]
  },
  {
   "cell_type": "code",
   "execution_count": 92,
   "metadata": {},
   "outputs": [
    {
     "name": "stdout",
     "output_type": "stream",
     "text": [
      "['Ryan', 'Tenzin', 'Austin', 'Dylan', 'Mohammad']\n",
      "['Ryan', 'Tenzin', 'Austin', 'Dylan', 'Mohammad', 'Alex']\n",
      "['Ryan', 'Tenzin', 'Austin', 'Dylan', 'Mohammad', 'Alex', 'Matthew']\n",
      "['Ryan', 'Tenzin', 'Austin', 'Dylan', 'Mohammad', 'Alex', 'Matthew', 2]\n"
     ]
    }
   ],
   "source": [
    "names = [\"Ryan\", \"Tenzin\", \"Austin\", \"Dylan\", \"Mohammad\"]\n",
    "\n",
    "print(names)\n",
    "names.append('Alex')\n",
    "print(names)\n",
    "names.append('Matthew')\n",
    "print(names)\n",
    "names.append(2)\n",
    "print(names)"
   ]
  },
  {
   "cell_type": "markdown",
   "metadata": {},
   "source": [
    "##### .insert()"
   ]
  },
  {
   "cell_type": "code",
   "execution_count": 93,
   "metadata": {},
   "outputs": [
    {
     "name": "stdout",
     "output_type": "stream",
     "text": [
      "['Ryan', 'Leza', 'Tenzin', 'Austin', 'Dylan', 'Mohammad', 'Alex', 'Matthew', 2]\n"
     ]
    }
   ],
   "source": [
    "#our_list.insert(index, value)\n",
    "\n",
    "names.insert(1, 'Leza')\n",
    "print(names)"
   ]
  },
  {
   "cell_type": "markdown",
   "metadata": {},
   "source": [
    "##### .pop()"
   ]
  },
  {
   "cell_type": "code",
   "execution_count": 96,
   "metadata": {},
   "outputs": [
    {
     "name": "stdout",
     "output_type": "stream",
     "text": [
      "Devante\n"
     ]
    }
   ],
   "source": [
    "# default is the last value if no parameter is given\n",
    "# pop returns the element that was removed in case you want to assign it into a variable\n",
    "\n",
    "#bye_name = names.pop()\n",
    "#print(bye_name)\n",
    "#print(names)\n",
    "\n",
    "#utilize pop at a given index\n",
    "\n",
    "names = ['Jason', 'Luis', 'Devante', 'Priscilla']\n",
    "bye_names = names.pop(2) #returns a value\n",
    "print(bye_names)"
   ]
  },
  {
   "cell_type": "markdown",
   "metadata": {},
   "source": [
    "##### .remove()"
   ]
  },
  {
   "cell_type": "code",
   "execution_count": 196,
   "metadata": {},
   "outputs": [
    {
     "name": "stdout",
     "output_type": "stream",
     "text": [
      "['Jason', 'Bob', 'Leza']\n",
      "['Jason', 'Leza']\n"
     ]
    }
   ],
   "source": [
    "# value to be removed, not an index\n",
    "\n",
    "#names = ['Jason', 'Luis', 'Devante', 'Priscilla']\n",
    "#bye_names = names.remove('Devante') #DOES NOT return a value\n",
    "#print(names)\n",
    "\n",
    "names = ['Bob', 'Jason', 'Bob', 'Bob', 'Leza']\n",
    "\n",
    "#names.remove('Bob')\n",
    "#print(names)\n",
    "\n",
    "for name in names:\n",
    "    if name == 'Bob':\n",
    "        names.remove(name)\n",
    "\n",
    "print(names)\n",
    "\n",
    "while 'Bob' in names:\n",
    "    names.remove('Bob')\n",
    "\n",
    "print(names)\n"
   ]
  },
  {
   "cell_type": "markdown",
   "metadata": {},
   "source": [
    "### Working With Lists"
   ]
  },
  {
   "cell_type": "markdown",
   "metadata": {},
   "source": [
    "##### del()"
   ]
  },
  {
   "cell_type": "code",
   "execution_count": 109,
   "metadata": {},
   "outputs": [
    {
     "name": "stdout",
     "output_type": "stream",
     "text": [
      "['Jason', 'Luis', 'Devante', 'Priscilla']\n",
      "['Luis', 'Devante', 'Priscilla']\n",
      "['Devante', 'Priscilla']\n"
     ]
    }
   ],
   "source": [
    "# index to be removed, not value \n",
    "# be careful with del, can cause indexign error (proceed with caution when shifting lists)\n",
    "\n",
    "names = ['Jason', 'Luis', 'Devante', 'Priscilla']\n",
    "print(names)\n",
    "\n",
    "del(names[0])\n",
    "print(names)\n",
    "\n",
    "del names[0]\n",
    "print(names)\n",
    "\n"
   ]
  },
  {
   "cell_type": "code",
   "execution_count": 110,
   "metadata": {},
   "outputs": [
    {
     "name": "stdout",
     "output_type": "stream",
     "text": [
      "0\n"
     ]
    }
   ],
   "source": [
    "print(names.index('Devante'))"
   ]
  },
  {
   "cell_type": "markdown",
   "metadata": {},
   "source": [
    "##### min()"
   ]
  },
  {
   "cell_type": "code",
   "execution_count": 114,
   "metadata": {},
   "outputs": [
    {
     "name": "stdout",
     "output_type": "stream",
     "text": [
      "-2\n",
      "Brendan\n",
      "Jason\n",
      "\n",
      "\n",
      "Nico\n"
     ]
    }
   ],
   "source": [
    "# return the smallest item in a list\n",
    "\n",
    "numbers = [3,1,6,5,10,-2]\n",
    "\n",
    "print(min(numbers))\n",
    "\n",
    "names = ['Brendan', 'Jeremy', 'Jason', 'Nico']\n",
    "print(min(names))\n",
    "#or                            Ja first vs Je in Jeremy\n",
    "names = ['brendan', 'Jeremy', 'Jason', 'Nico']\n",
    "print(min(names))\n",
    "\n",
    "print('\\n')\n",
    "\n",
    "print(min(names, key=len)) #returns smallest (names in this case) value"
   ]
  },
  {
   "cell_type": "markdown",
   "metadata": {},
   "source": [
    "##### max()"
   ]
  },
  {
   "cell_type": "code",
   "execution_count": 117,
   "metadata": {},
   "outputs": [
    {
     "name": "stdout",
     "output_type": "stream",
     "text": [
      "brendan\n",
      "brendan\n"
     ]
    }
   ],
   "source": [
    "# returns largest item in a list\n",
    "\n",
    "print(max(names))\n",
    "\n",
    "print(max(names, key=len))"
   ]
  },
  {
   "cell_type": "markdown",
   "metadata": {},
   "source": [
    "##### sum()"
   ]
  },
  {
   "cell_type": "code",
   "execution_count": 121,
   "metadata": {},
   "outputs": [
    {
     "name": "stdout",
     "output_type": "stream",
     "text": [
      "23\n"
     ]
    },
    {
     "ename": "TypeError",
     "evalue": "unsupported operand type(s) for +: 'int' and 'str'",
     "output_type": "error",
     "traceback": [
      "\u001b[1;31m---------------------------------------------------------------------------\u001b[0m",
      "\u001b[1;31mTypeError\u001b[0m                                 Traceback (most recent call last)",
      "Cell \u001b[1;32mIn[121], line 5\u001b[0m\n\u001b[0;32m      1\u001b[0m \u001b[38;5;66;03m# return the sum of all numbers in a list\u001b[39;00m\n\u001b[0;32m      3\u001b[0m \u001b[38;5;28mprint\u001b[39m(\u001b[38;5;28msum\u001b[39m(numbers))\n\u001b[1;32m----> 5\u001b[0m \u001b[38;5;28mprint\u001b[39m(\u001b[38;5;28;43msum\u001b[39;49m\u001b[43m(\u001b[49m\u001b[43mnames\u001b[49m\u001b[43m)\u001b[49m) \u001b[38;5;66;03m#no numbers here\u001b[39;00m\n",
      "\u001b[1;31mTypeError\u001b[0m: unsupported operand type(s) for +: 'int' and 'str'"
     ]
    }
   ],
   "source": [
    "# return the sum of all numbers in a list\n",
    "\n",
    "print(sum(numbers))\n",
    "\n",
    "print(sum(names)) #no numbers here\n",
    "\n"
   ]
  },
  {
   "cell_type": "markdown",
   "metadata": {},
   "source": [
    "##### sorted()"
   ]
  },
  {
   "cell_type": "code",
   "execution_count": 133,
   "metadata": {},
   "outputs": [
    {
     "name": "stdout",
     "output_type": "stream",
     "text": [
      "[-2, 1, 3, 5, 6, 10]\n",
      "[-2, 1, 3, 5, 6, 10]\n",
      "[3, 1, 6, 5, 10, -2]\n",
      "['Nico', 'Jason', 'Jeremy', 'Brendan']\n",
      "['B', 'a', 'd', 'e', 'n', 'n', 'r']\n"
     ]
    }
   ],
   "source": [
    "#sorted will return a new sorted list, create a new variable\n",
    "#because it's a funcation it can accept different data types. Creates a copy\n",
    "\n",
    "numbers = [3,1,6,5,10,-2]\n",
    "print(sorted(numbers))\n",
    "\n",
    "sorted_nums = sorted(numbers)\n",
    "print(sorted_nums)\n",
    "\n",
    "print(numbers)\n",
    "\n",
    "names = ['Brendan', 'Jeremy', 'Jason', 'Nico']\n",
    "print(sorted(names, key=len))\n",
    "\n",
    "name = 'Brendan'\n",
    "\n",
    "print(sorted(name))"
   ]
  },
  {
   "cell_type": "markdown",
   "metadata": {},
   "source": [
    "##### .sort() <br>\n",
    "<p>Difference between sort and sorted, is that sorted doesn't change original list it returns a copy, while .sort changes the original list</p>"
   ]
  },
  {
   "cell_type": "code",
   "execution_count": 134,
   "metadata": {},
   "outputs": [
    {
     "name": "stdout",
     "output_type": "stream",
     "text": [
      "numbers before sort:  [3, 1, 6, 5, 10, -2]\n",
      "Numbers after sort:  [-2, 1, 3, 5, 6, 10]\n",
      "[-2, 1, 3, 5, 6, 10]\n"
     ]
    }
   ],
   "source": [
    "#.sort() will sort the original list\n",
    "# this is a list method() so only works on list\n",
    "\n",
    "numbers = [3,1,6,5,10,-2]\n",
    "print(\"numbers before sort: \", numbers)\n",
    "numbers.sort() #no return value when called upon. Thus prints as None. Changes original list\n",
    "\n",
    "print(\"Numbers after sort: \", numbers)\n",
    "print(numbers)"
   ]
  },
  {
   "cell_type": "markdown",
   "metadata": {},
   "source": [
    "##### Copying a List"
   ]
  },
  {
   "cell_type": "code",
   "execution_count": 139,
   "metadata": {},
   "outputs": [
    {
     "name": "stdout",
     "output_type": "stream",
     "text": [
      "[1, 6, 1, 5, 10, -2]\n",
      "[1, 6, 1, 5, 10, -2]\n",
      "[1, 6, 1, 5, 10, -2]\n",
      "[1, 6, 1, 5, 10, -2, 5]\n",
      "False\n"
     ]
    }
   ],
   "source": [
    "# [:] copies a list, doesn't alter original'\n",
    "\n",
    "numbers = [1,6,1,5,10,-2]\n",
    "\n",
    "new_numbers = numbers[:] # with [:] now points to one object. They are different objects now =only one 5 gets appended\n",
    "\n",
    "print(numbers)\n",
    "print(new_numbers)\n",
    "\n",
    "new_numbers.append(5) #pointing to the same object, altering the same object..adds 5 to both\n",
    "\n",
    "print(numbers)\n",
    "print(new_numbers)\n",
    "\n",
    "print(numbers is new_numbers)"
   ]
  },
  {
   "cell_type": "markdown",
   "metadata": {},
   "source": [
    "##### Looping Through Lists"
   ]
  },
  {
   "cell_type": "code",
   "execution_count": 145,
   "metadata": {},
   "outputs": [
    {
     "name": "stdout",
     "output_type": "stream",
     "text": [
      "Han Solo\n",
      "Leia Organa\n",
      "Luke Skywalker\n",
      "Lando Calrissian\n",
      "Mace Windu\n",
      "0\n",
      "Han Solo\n",
      "1\n",
      "Leia Organa\n",
      "2\n",
      "Luke Skywalker\n",
      "3\n",
      "Lando Calrissian\n",
      "4\n",
      "Mace Windu\n",
      "\n",
      "\n",
      "0\n",
      "['Han Solo', 'Leia Organa', 'Luke Skywalker', 'Lando Calrissian', 'Mace Windu']\n",
      "1\n",
      "['Han Solo', 'Leia Organa', 'Luke Skywalker', 'Lando Calrissian', 'Mace Windu']\n",
      "2\n",
      "['Han Solo', 'Leia Organa', 'Luke Skywalker', 'Lando Calrissian', 'Mace Windu']\n",
      "3\n",
      "['Han Solo', 'Leia Organa', 'Luke Skywalker', 'Lando Calrissian', 'Mace Windu']\n",
      "4\n",
      "['Han Solo', 'Leia Organa', 'Luke Skywalker', 'Lando Calrissian', 'Mace Windu']\n"
     ]
    }
   ],
   "source": [
    "#Two ways to loop through a list. one is by index and the other is by value, using the \"in\" keyword\n",
    "names = [\"Han Solo\", \"Leia Organa\", \"Luke Skywalker\", \"Lando Calrissian\", \"Mace Windu\"]\n",
    "\n",
    "\n",
    "# looping by value ONLY\n",
    "# remember name is just a variable that represents each item\n",
    "for name in names:\n",
    "    print(name)\n",
    "\n",
    "# Looping by index ONLY\n",
    "for i in range(len(names)):\n",
    "    print(i)\n",
    "    print(names[i]) #using i to index into iterable and grab the value\n",
    "\n",
    "print('\\n')\n",
    "\n",
    "#looping by index and value\n",
    "for i, name in enumerate(names):\n",
    "    print(i)\n",
    "    print(names)"
   ]
  },
  {
   "cell_type": "markdown",
   "metadata": {},
   "source": [
    "##### 'in' keyword"
   ]
  },
  {
   "cell_type": "code",
   "execution_count": 147,
   "metadata": {},
   "outputs": [
    {
     "name": "stdout",
     "output_type": "stream",
     "text": [
      "Ranger\n"
     ]
    }
   ],
   "source": [
    "names = [\"Ryan\", \"Alex\", \"Tenzin\", \"Austin\", \"Jeong\", \"Nate\"]\n",
    "\n",
    "if 'Nate' in names:\n",
    "    print('Ranger')\n",
    "else:\n",
    "    print(\"Not a Ranger\")"
   ]
  },
  {
   "cell_type": "markdown",
   "metadata": {},
   "source": [
    "##### 'not in' keyword"
   ]
  },
  {
   "cell_type": "code",
   "execution_count": 148,
   "metadata": {},
   "outputs": [
    {
     "name": "stdout",
     "output_type": "stream",
     "text": [
      "New Ranger Squad\n"
     ]
    }
   ],
   "source": [
    "names = [\"Ryan\", \"Alex\", \"Tenzin\", \"Austin\", \"Jeong\", \"Nate\"]\n",
    "\n",
    "\n",
    "if \"Matthew\" not in names:\n",
    "    print(\"New Ranger Squad\")\n",
    "else:\n",
    "    print(\"Not a Ranger\")"
   ]
  },
  {
   "cell_type": "markdown",
   "metadata": {},
   "source": [
    "##### Checking an Empty List"
   ]
  },
  {
   "cell_type": "code",
   "execution_count": 149,
   "metadata": {},
   "outputs": [
    {
     "name": "stdout",
     "output_type": "stream",
     "text": [
      "That is an empty list. Would ya just look at it\n",
      "no\n"
     ]
    }
   ],
   "source": [
    "l_2 = [] #declared this empty list\n",
    "l_3 = None # declared this none type value\n",
    "s_1 = \"\" #this is also a falsey value\n",
    "i_1 = 0 #this is also a falsey value\n",
    "\n",
    "if l_2 == []: # if not 1_2 ...this is a falsey value\n",
    "    print(\"That is an empty list. Would ya just look at it\")\n",
    "    \n",
    "if l_3 == l_2: # 1_2 is a recognized data type and none is a nonetype. Both falsey values but not the same. \n",
    "    print(\"yes\")\n",
    "else: \n",
    "    print(\"no\")"
   ]
  },
  {
   "cell_type": "markdown",
   "metadata": {},
   "source": [
    "##### Removing Instances with a Loop"
   ]
  },
  {
   "cell_type": "code",
   "execution_count": 150,
   "metadata": {},
   "outputs": [
    {
     "name": "stdout",
     "output_type": "stream",
     "text": [
      "['Jeremy', 'Kenai', 'Jason']\n"
     ]
    }
   ],
   "source": [
    "#while, remove\n",
    "\n",
    "names = ['Bob', 'Jeremy', 'Kenai', 'Jason', 'Bob', 'Bob']\n",
    "\n",
    "while 'Bob' in names:\n",
    "    names.remove('Bob')\n",
    "\n",
    "print(names)"
   ]
  },
  {
   "cell_type": "code",
   "execution_count": 153,
   "metadata": {},
   "outputs": [
    {
     "name": "stdout",
     "output_type": "stream",
     "text": [
      "[0, 4, 5]\n"
     ]
    },
    {
     "ename": "IndexError",
     "evalue": "pop index out of range",
     "output_type": "error",
     "traceback": [
      "\u001b[1;31m---------------------------------------------------------------------------\u001b[0m",
      "\u001b[1;31mIndexError\u001b[0m                                Traceback (most recent call last)",
      "Cell \u001b[1;32mIn[153], line 11\u001b[0m\n\u001b[0;32m      8\u001b[0m \u001b[38;5;28mprint\u001b[39m(pop_index)\n\u001b[0;32m     10\u001b[0m \u001b[38;5;28;01mfor\u001b[39;00m index \u001b[38;5;129;01min\u001b[39;00m pop_index:\n\u001b[1;32m---> 11\u001b[0m     \u001b[43mnames\u001b[49m\u001b[38;5;241;43m.\u001b[39;49m\u001b[43mpop\u001b[49m\u001b[43m(\u001b[49m\u001b[43mindex\u001b[49m\u001b[43m)\u001b[49m\n",
      "\u001b[1;31mIndexError\u001b[0m: pop index out of range"
     ]
    }
   ],
   "source": [
    "names = ['Bob', 'Jeremy', 'Kenai', 'Jason', 'Bob', 'Bob']\n",
    "pop_index = []\n",
    "\n",
    "for i, name in enumerate(names):\n",
    "    if name == 'Bob':\n",
    "        pop_index.append(i)\n",
    "\n",
    "print(pop_index)\n",
    "\n",
    "for index in pop_index: # index is shifting\n",
    "    names.pop(index)"
   ]
  },
  {
   "cell_type": "code",
   "execution_count": 198,
   "metadata": {},
   "outputs": [
    {
     "name": "stdout",
     "output_type": "stream",
     "text": [
      "['Jason', 'Leza']\n"
     ]
    }
   ],
   "source": [
    "index = 0\n",
    "while index < len(names):\n",
    "\n",
    "    if names[index] == 'Bob':\n",
    "        names.pop(index)\n",
    "    else:\n",
    "        index += 1 # want to stay on index\n",
    "\n",
    "print(names)"
   ]
  },
  {
   "cell_type": "markdown",
   "metadata": {},
   "source": [
    "### List Exercise <br>\n",
    "<p>Remove all duplicates<br><b>Extra: Create a program that will remove any duplicates from a given list</b></p>"
   ]
  },
  {
   "cell_type": "code",
   "execution_count": 163,
   "metadata": {},
   "outputs": [
    {
     "name": "stdout",
     "output_type": "stream",
     "text": [
      "['connor', 'bob', 'evan', 'max', 2, 3, 4, 'kevin']\n"
     ]
    }
   ],
   "source": [
    "names = ['connor', 'connor', 'bob', 'connor', 'evan', 'max', 'evan', 2, 2, 2, 3, 3, 4, 'bob', 'kevin']\n",
    "# Hint 1: You will need an append\n",
    "# Hint 2: Using an empty list will make life easier\n",
    "\n",
    "new_names = []\n",
    "for name in names:\n",
    "    if name not in new_names:\n",
    "        new_names.append(name)\n",
    "\n",
    "print(new_names)\n",
    "\n"
   ]
  },
  {
   "cell_type": "code",
   "execution_count": null,
   "metadata": {},
   "outputs": [],
   "source": [
    "names = ['connor', 'connor', 'bob', 'connor', 'evan', 'max', 'evan', 2, 2, 2, 3, 3, 4, 'bob', 'kevin']\n",
    "# Hint 1: You will need an append\n",
    "# Hint 2: Using an empty list will make life easier\n",
    "\n",
    "i, j = 0,1\n",
    "\n",
    "while i < len(names) -1 :\n",
    "    if j == len(names) - 1:\n",
    "        i += 1\n",
    "        j = i + 1\n",
    "    else:\n",
    "        j += 1"
   ]
  },
  {
   "cell_type": "markdown",
   "metadata": {},
   "source": [
    "### List Comprehensions <br>\n",
    "<p>Creating a quickly generated list to work with<br>*result*  = [*transform*    *iteration*         *filter*     ]</p>"
   ]
  },
  {
   "cell_type": "markdown",
   "metadata": {},
   "source": [
    "##### In a list comprehension we have a few pieces:\n",
    "1. The first is the counter/ variable - IN this the variable is x\n",
    "2. then we have a transform for the variable\n",
    "3. The finale part of a list comp is called the condition\n",
    "\n",
    "```python\n",
    "    [transform, iteration/variable, condition]\n",
    "```"
   ]
  },
  {
   "cell_type": "code",
   "execution_count": 167,
   "metadata": {
    "scrolled": true
   },
   "outputs": [
    {
     "name": "stdout",
     "output_type": "stream",
     "text": [
      "[25, 49, 81]\n",
      "[25, 49, 81]\n"
     ]
    }
   ],
   "source": [
    "nums = [2, 4, 5, 6, 7, 8, 9, 10]\n",
    "nums_squared = []\n",
    "\n",
    "# long hand\n",
    "for num in nums:\n",
    "    if num % 2: # Looking for a Truesey value aka 1 ( if a # is false that modulo will be 1 if divining by 2)\n",
    "        nums_squared.append(num ** 2)\n",
    "\n",
    "print(nums_squared)\n",
    "\n",
    "#list comprehension\n",
    "                 # transform    #iterate     #conditional/filter\n",
    "nums_squared_lc = [num ** 2 for num in nums if num % 2]\n",
    "print(nums_squared_lc)\n"
   ]
  },
  {
   "cell_type": "code",
   "execution_count": 168,
   "metadata": {},
   "outputs": [
    {
     "name": "stdout",
     "output_type": "stream",
     "text": [
      "[2, 4, 5, 6, 7, 8, 9, 10]\n",
      "[2, 4, 25, 6, 49, 8, 81, 10]\n"
     ]
    }
   ],
   "source": [
    "#list comprehension when we have if/else or if/elif/else statements\n",
    "#long handed way\n",
    "nums = [2,4,5,6,7,8,9,10]\n",
    "nums_squared = []\n",
    "\n",
    "for num in nums:\n",
    "    if num % 2:\n",
    "        nums_squared.append(num)\n",
    "    else:\n",
    "        nums_squared.append(num)\n",
    "\n",
    "print(nums_squared)\n",
    "\n",
    "nums_squared_lc = [num ** 2 if num % 2 else num for num in nums]\n",
    "print(nums_squared_lc)"
   ]
  },
  {
   "cell_type": "code",
   "execution_count": 174,
   "metadata": {},
   "outputs": [
    {
     "name": "stdout",
     "output_type": "stream",
     "text": [
      "[2, 4, 25, 216, 49, 8, 81, 10]\n",
      "[2, 4, 25, 216, 49, 8, 81, 10]\n"
     ]
    }
   ],
   "source": [
    "nums = [2,4,5,6,7,8,9,10]\n",
    "nums_squared = []\n",
    "\n",
    "for num in nums:\n",
    "    if num % 2:\n",
    "        nums_squared.append(num ** 2)\n",
    "    elif num == 6:\n",
    "        nums_squared.append(num ** 3)\n",
    "    else:\n",
    "        nums_squared.append(num)\n",
    "\n",
    "print(nums_squared)\n",
    "\n",
    "# list comprehension\n",
    "\n",
    "nums_squared_lc = [num ** 2 if num % 2 else (num ** 3 if num == 6 else num) for num in nums]\n",
    "print(nums_squared_lc)"
   ]
  },
  {
   "cell_type": "markdown",
   "metadata": {},
   "source": [
    "There are a few benefits to using List comprehensions. The most obvious would be that we now have shorter code to work with instead of using 3+ lines of code in the for loop variant.\n",
    "\n",
    "Another is an added benefit to memory usage. Since the list's memory is allocated first before adding elements to it, we don't have to resize the list once we add elements to it.\n",
    "\n",
    "Lastly, list comprehensions are considered the \"pythonic\" way to write code by the PEP8 standards (Python Style Guide)"
   ]
  },
  {
   "cell_type": "markdown",
   "metadata": {},
   "source": [
    "### Tuples <br>\n",
    "<p><b>Defined as an immutable list</b></p><br>Seperated by commas using parenthesis"
   ]
  },
  {
   "cell_type": "code",
   "execution_count": 178,
   "metadata": {},
   "outputs": [
    {
     "name": "stdout",
     "output_type": "stream",
     "text": [
      "(1, 2, 3)\n",
      "(4, 5, 6)\n",
      "<class 'tuple'>\n",
      "<class 'tuple'>\n",
      "3\n",
      "1\n",
      "2\n",
      "3\n"
     ]
    },
    {
     "ename": "AttributeError",
     "evalue": "'tuple' object has no attribute 'append'",
     "output_type": "error",
     "traceback": [
      "\u001b[1;31m---------------------------------------------------------------------------\u001b[0m",
      "\u001b[1;31mAttributeError\u001b[0m                            Traceback (most recent call last)",
      "Cell \u001b[1;32mIn[178], line 16\u001b[0m\n\u001b[0;32m     13\u001b[0m \u001b[38;5;28;01mfor\u001b[39;00m num \u001b[38;5;129;01min\u001b[39;00m tup_1:\n\u001b[0;32m     14\u001b[0m     \u001b[38;5;28mprint\u001b[39m(num)\n\u001b[1;32m---> 16\u001b[0m \u001b[43mtup_1\u001b[49m\u001b[38;5;241;43m.\u001b[39;49m\u001b[43mappend\u001b[49m(\u001b[38;5;241m10\u001b[39m)\n",
      "\u001b[1;31mAttributeError\u001b[0m: 'tuple' object has no attribute 'append'"
     ]
    }
   ],
   "source": [
    "#declare a tuple we utilize our paranthesis ()\n",
    "tup_1 = (1,2,3)\n",
    "tup_2 = 4,5,6 #another way to declare tuples\n",
    "\n",
    "print(tup_1)\n",
    "print(tup_2)\n",
    "\n",
    "print(type(tup_1))\n",
    "print(type(tup_2))\n",
    "\n",
    "print(len(tup_2))\n",
    "\n",
    "for num in tup_1:\n",
    "    print(num)\n",
    "\n",
    "tup_1.append(10) #no way to add to tuple with (.)dot"
   ]
  },
  {
   "cell_type": "markdown",
   "metadata": {},
   "source": [
    "##### sorted()"
   ]
  },
  {
   "cell_type": "code",
   "execution_count": 183,
   "metadata": {},
   "outputs": [
    {
     "name": "stdout",
     "output_type": "stream",
     "text": [
      "[1, 5, 10, 20, 95, 123]\n",
      "<class 'list'>\n",
      "(20, 5, 1, 10, 95, 123)\n",
      "(1, 5, 10, 20, 95, 123)\n"
     ]
    }
   ],
   "source": [
    "tup = (20,5,1,10,95,123)\n",
    "\n",
    "print(my_tup)\n",
    "my_tup = (sorted(tup))\n",
    "print(type(my_tup))\n",
    "print(tup)\n",
    "\n",
    "my_tup = tuple(my_tup)\n",
    "print(my_tup)"
   ]
  },
  {
   "cell_type": "markdown",
   "metadata": {},
   "source": [
    "##### Adding values to a Tuple"
   ]
  },
  {
   "cell_type": "code",
   "execution_count": 187,
   "metadata": {},
   "outputs": [
    {
     "name": "stdout",
     "output_type": "stream",
     "text": [
      "(1, 5, 10, 20, 95, 123, 20, 5, 1, 10, 95, 123)\n",
      "(1, 5, 10, 20, 95, 123, 20, 5, 1, 10, 95, 123, 6)\n",
      "(1, 5, 10, 20, 95, 123, 20, 5, 1, 10, 95, 123, 6, 7)\n"
     ]
    }
   ],
   "source": [
    "new_tup = my_tup + tup\n",
    "print(new_tup)\n",
    "\n",
    "new_tup = new_tup + (6,) # comma indicating it's a tuple and can concatinate. Needs comma.\n",
    "print(new_tup)\n",
    "new_tup += (7,)\n",
    "print(new_tup)"
   ]
  },
  {
   "cell_type": "code",
   "execution_count": 188,
   "metadata": {},
   "outputs": [
    {
     "name": "stdout",
     "output_type": "stream",
     "text": [
      "[(0, 'Bob'), (1, 'Jeremy'), (2, 'Kenai'), (3, 'Jason'), (4, 'Bob'), (5, 'Bob')]\n"
     ]
    }
   ],
   "source": [
    "names = ['Bob', 'Jeremy', 'Kenai', 'Jason', 'Bob', 'Bob']\n",
    "print(list(enumerate(names)))"
   ]
  },
  {
   "cell_type": "markdown",
   "metadata": {},
   "source": [
    "# Exercises"
   ]
  },
  {
   "cell_type": "markdown",
   "metadata": {},
   "source": [
    "## Exercise 1 <br>\n",
    "<p>Using the given list, print out a filtered version of the list with only the numbers that are less than ten</b></i></p><br>\n"
   ]
  },
  {
   "cell_type": "code",
   "execution_count": 4,
   "metadata": {},
   "outputs": [
    {
     "name": "stdout",
     "output_type": "stream",
     "text": [
      "[1, 5, 8, 9]\n"
     ]
    }
   ],
   "source": [
    "alist = [1,11,14,5,8,9]\n",
    "\n",
    "blist = []\n",
    "\n",
    "for i in alist:\n",
    "    if i < 10:\n",
    "        blist.append(i)\n",
    "\n",
    "print(blist)\n"
   ]
  },
  {
   "cell_type": "code",
   "execution_count": 5,
   "metadata": {},
   "outputs": [
    {
     "ename": "TypeError",
     "evalue": "'>' not supported between instances of 'list' and 'int'",
     "output_type": "error",
     "traceback": [
      "\u001b[1;31m---------------------------------------------------------------------------\u001b[0m",
      "\u001b[1;31mTypeError\u001b[0m                                 Traceback (most recent call last)",
      "Cell \u001b[1;32mIn[5], line 4\u001b[0m\n\u001b[0;32m      1\u001b[0m alist \u001b[38;5;241m=\u001b[39m [\u001b[38;5;241m1\u001b[39m,\u001b[38;5;241m11\u001b[39m,\u001b[38;5;241m14\u001b[39m,\u001b[38;5;241m5\u001b[39m,\u001b[38;5;241m8\u001b[39m,\u001b[38;5;241m9\u001b[39m]\n\u001b[1;32m----> 4\u001b[0m \u001b[38;5;28;01mwhile\u001b[39;00m i \u001b[38;5;129;01min\u001b[39;00m alist \u001b[38;5;241m>\u001b[39m \u001b[38;5;241m10\u001b[39m:\n\u001b[0;32m      5\u001b[0m         alist\u001b[38;5;241m.\u001b[39mremove(num)\n\u001b[0;32m      7\u001b[0m \u001b[38;5;28mprint\u001b[39m(alist)\n",
      "\u001b[1;31mTypeError\u001b[0m: '>' not supported between instances of 'list' and 'int'"
     ]
    }
   ],
   "source": [
    "# alist = [1,11,14,5,8,9]\n",
    "\n",
    "\n",
    "# while i in alist > 10:\n",
    "#         alist.remove(num)\n",
    "\n",
    "# print(alist)"
   ]
  },
  {
   "cell_type": "markdown",
   "metadata": {},
   "source": [
    "## Exercise 2 <br>\n",
    "<p>Merge and sort the two lists below<br>\n",
    "<b><i>Hint: You can use the .sort() method</i></b></p>"
   ]
  },
  {
   "cell_type": "code",
   "execution_count": 6,
   "metadata": {},
   "outputs": [
    {
     "name": "stdout",
     "output_type": "stream",
     "text": [
      "[1, 2, 3, 3, 4, 4, 5, 5, 6, 6, 7, 8, 10]\n"
     ]
    }
   ],
   "source": [
    "l_1 = [1,2,3,4,5,6]\n",
    "l_2 = [3,4,5,6,7,8,10]\n",
    "\n",
    "l_3 = sorted(l_1 + l_2)\n",
    "print(l_3)\n",
    "\n"
   ]
  },
  {
   "cell_type": "markdown",
   "metadata": {},
   "source": [
    "## Exercise 3 <br>\n",
    "<p>Square every number from 1 to 15<br>\n"
   ]
  },
  {
   "cell_type": "code",
   "execution_count": 8,
   "metadata": {},
   "outputs": [
    {
     "name": "stdout",
     "output_type": "stream",
     "text": [
      "1\n",
      "4\n",
      "9\n",
      "16\n",
      "25\n",
      "36\n",
      "49\n",
      "64\n",
      "81\n",
      "100\n",
      "121\n",
      "144\n",
      "169\n",
      "196\n",
      "225\n"
     ]
    }
   ],
   "source": [
    "for i in range(1,16):\n",
    "    print(i **2)\n",
    "\n"
   ]
  },
  {
   "cell_type": "code",
   "execution_count": 78,
   "metadata": {},
   "outputs": [
    {
     "name": "stdout",
     "output_type": "stream",
     "text": [
      "1\n"
     ]
    }
   ],
   "source": []
  },
  {
   "cell_type": "markdown",
   "metadata": {},
   "source": [
    "## Exercise 4<br>\n",
    "<p>Using List Comprehension and the given list, print out a filtered list with \n",
    "only the names that start with the letter 'a'. \n",
    "The names in the outputted list should be title cased and have no whitespace.<br>\n",
    "<p>Hint: There is an empty string at the end of the list you will need to account for.\n"
   ]
  },
  {
   "cell_type": "code",
   "execution_count": 20,
   "metadata": {},
   "outputs": [
    {
     "name": "stdout",
     "output_type": "stream",
     "text": [
      "[]\n"
     ]
    }
   ],
   "source": [
    "names_list = ['   amy', 'Briant', 'Ryan ', ' Alex', 'steve', '  ']\n",
    "#expected output = ['Amy', 'Alex']\n",
    "\n",
    "a_list = []\n",
    "for name in names_list:\n",
    "    if name[0] == \"A\" or name[0] == \"a\":\n",
    "        a_list.append(name.title().strip())\n",
    "        \n",
    "print(a_list) #seems close"
   ]
  },
  {
   "cell_type": "markdown",
   "metadata": {},
   "source": [
    "## Exercise 5 <br>\n",
    "<p>Print all Prime numbers from 1 to 100<br>\n",
    "<p>Hint: A Prime # is any # that is ONLY divisible by 1 and itself. So think how you can iterate through the list of #s from 1 to 100 and check to see if its divisible by ANY # below it.\n",
    "<p>The For/Each might be very helpful for this question. \n",
    "https://www.geeksforgeeks.org/using-else-conditional-statement-with-for-loop-in-python/\n"
   ]
  },
  {
   "cell_type": "code",
   "execution_count": 26,
   "metadata": {},
   "outputs": [],
   "source": [
    "#possibly utilize range()\n",
    "\n",
    "for num in range(1,101):\n",
    "    count = 0   \n",
    "    if i > 1:\n",
    "        for i in range(2,num):\n",
    "            if (num % i) == 0:\n",
    "                count = count + 1\n",
    "                break\n",
    "    else:\n",
    "        print(num) #not printing :(\n",
    "        "
   ]
  }
 ],
 "metadata": {
  "kernelspec": {
   "display_name": "Python 3 (ipykernel)",
   "language": "python",
   "name": "python3"
  },
  "language_info": {
   "codemirror_mode": {
    "name": "ipython",
    "version": 3
   },
   "file_extension": ".py",
   "mimetype": "text/x-python",
   "name": "python",
   "nbconvert_exporter": "python",
   "pygments_lexer": "ipython3",
   "version": "3.10.11"
  }
 },
 "nbformat": 4,
 "nbformat_minor": 4
}
